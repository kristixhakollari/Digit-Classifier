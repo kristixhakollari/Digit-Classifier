{
 "cells": [
  {
   "cell_type": "code",
   "execution_count": 46,
   "id": "e1911479-fa4f-48a4-b48a-b40b7ae16b1f",
   "metadata": {},
   "outputs": [],
   "source": [
    "import torch\n",
    "import torch.nn as nn\n",
    "import torch.nn.functional as F\n",
    "from torch.utils.data import DataLoader\n",
    "from torchvision import datasets, transforms\n"
   ]
  },
  {
   "cell_type": "code",
   "execution_count": 47,
   "id": "f60d1920-675c-4506-8929-4c3eecc311e7",
   "metadata": {},
   "outputs": [],
   "source": [
    "transform = transforms.ToTensor()"
   ]
  },
  {
   "cell_type": "code",
   "execution_count": 48,
   "id": "8dddcfa3-e49e-45ba-b957-dcc4e572b024",
   "metadata": {},
   "outputs": [],
   "source": [
    "train_data= datasets.MNIST(root = \"/digit_data\", train = True,transform = transform,download = True)"
   ]
  },
  {
   "cell_type": "code",
   "execution_count": 49,
   "id": "2591795c-d3d5-44e8-9558-e0926c98a598",
   "metadata": {},
   "outputs": [
    {
     "data": {
      "text/plain": [
       "Dataset MNIST\n",
       "    Number of datapoints: 60000\n",
       "    Root location: /digit_data\n",
       "    Split: Train\n",
       "    StandardTransform\n",
       "Transform: ToTensor()"
      ]
     },
     "execution_count": 49,
     "metadata": {},
     "output_type": "execute_result"
    }
   ],
   "source": [
    "train_data"
   ]
  },
  {
   "cell_type": "code",
   "execution_count": 5,
   "id": "c3072cd9-c0da-4d66-bc80-0d6a47390a36",
   "metadata": {},
   "outputs": [],
   "source": [
    "test_data= datasets.MNIST(root=\"/digit_data\",train =False,transform=transform,download=True)"
   ]
  },
  {
   "cell_type": "code",
   "execution_count": 6,
   "id": "7c8fbc3f-505e-44b3-a8b7-36bb82dfc9de",
   "metadata": {
    "scrolled": true
   },
   "outputs": [
    {
     "data": {
      "text/plain": [
       "Dataset MNIST\n",
       "    Number of datapoints: 10000\n",
       "    Root location: /digit_data\n",
       "    Split: Test\n",
       "    StandardTransform\n",
       "Transform: ToTensor()"
      ]
     },
     "execution_count": 6,
     "metadata": {},
     "output_type": "execute_result"
    }
   ],
   "source": [
    "test_data"
   ]
  },
  {
   "cell_type": "code",
   "execution_count": 7,
   "id": "0273a153-d7e3-4f77-8d5b-a9a70ac7f5a9",
   "metadata": {},
   "outputs": [],
   "source": [
    "train_load = DataLoader(train_data,batch_size = 10, shuffle= True)\n",
    "test_load = DataLoader(test_data,batch_size = 10, shuffle= True)"
   ]
  },
  {
   "cell_type": "code",
   "execution_count": 8,
   "id": "0e6f21a6-bd9a-46d5-a550-e8ae1f274775",
   "metadata": {},
   "outputs": [],
   "source": [
    "class CNN(nn.Module):\n",
    "    def __init__(self):\n",
    "        super(CNN,self).__init__()\n",
    "        self.conv1 = nn.Conv2d(1,32,3,1)\n",
    "        self.conv2 = nn.Conv2d(32,64,3,1)\n",
    "\n",
    "        self.fc1 = nn.Linear(1600,128)\n",
    "        self.fc2 = nn.Linear(128,64)\n",
    "        self.fc3 = nn.Linear(64,10)\n",
    "\n",
    "    def forward(self,x):\n",
    "        x = F.relu(self.conv1(x))\n",
    "        x = F.max_pool2d(x,2,2)\n",
    "        x = F.relu(self.conv2(x))\n",
    "        x = F.max_pool2d(x,2,2)\n",
    "        \n",
    "        x = torch.flatten(x, start_dim=1)\n",
    "\n",
    "        x = F.relu(self.fc1(x))\n",
    "        x = F.relu(self.fc2(x))\n",
    "        x = self.fc3(x)\n",
    "        \n",
    "        return x\n"
   ]
  },
  {
   "cell_type": "code",
   "execution_count": 15,
   "id": "92d800fc-0c16-4886-854c-c9aa4561ca61",
   "metadata": {},
   "outputs": [],
   "source": [
    "device =  torch.device(\"cuda\" if torch.cuda.is_available() else \"cpu\")\n",
    "model = CNN()\n",
    "\n",
    "criterion = nn.CrossEntropyLoss()\n",
    "optim = torch.optim.Adam(model.parameters(),lr = 0.01)"
   ]
  },
  {
   "cell_type": "code",
   "execution_count": 42,
   "id": "7855e2ff-2df7-45a5-94ba-ccdccba1f135",
   "metadata": {},
   "outputs": [],
   "source": [
    "def train(epoch):\n",
    "    model.train()\n",
    "    \n",
    "    for batch_idx, (data, target) in enumerate (train_load):\n",
    "        data,target = data.to(device), target.to(device)\n",
    "        optim.zero_grad()\n",
    "        output = model(data)\n",
    "        loss = criterion(output,target)\n",
    "        loss.backward()\n",
    "        optim.step()\n",
    "        if batch_idx % 20 == 0:\n",
    "            print(f'\\rTrain Epoch: {epoch} [{batch_idx * len(data)}/{len(train_load.dataset)} ({100. * batch_idx / len(train_load):.0f}%)]', end='', flush=True)\n",
    "\n",
    "    print(f'  Loss: {loss.item():.6f}')\n",
    "def test():\n",
    "    model.eval()\n",
    "\n",
    "    test_loss = 0\n",
    "    correct = 0\n",
    "\n",
    "    with torch.no_grad():\n",
    "        for data,target in test_load:\n",
    "            data,target = data.to(device), target.to(device)\n",
    "            output = model(data)\n",
    "            test_loss += criterion(output,target).item()\n",
    "            pred = output.argmax(dim=1,keepdim=True)\n",
    "            correct += pred.eq(target.view_as(pred)).sum().item()\n",
    "    \n",
    "    test_loss /= len(test_load.dataset)\n",
    "    print(f'\\nTest set: Average loss: {test_loss: .4f}, Accuracy {correct}/{len(test_load.dataset)} ({100. * correct / len(test_load.dataset):.0f}%\\n)')\n",
    "            "
   ]
  },
  {
   "cell_type": "code",
   "execution_count": 43,
   "id": "59bbf5b5-18bd-4462-b4eb-8eca548884f7",
   "metadata": {},
   "outputs": [
    {
     "name": "stdout",
     "output_type": "stream",
     "text": [
      "Train Epoch: 0 [59800/60000 (100%)]  Loss: 0.032131\n",
      "\n",
      "Test set: Average loss:  0.0165, Accuracy 9589/10000 (96%\n",
      ")\n",
      "Train Epoch: 1 [59800/60000 (100%)]  Loss: 0.035206\n",
      "\n",
      "Test set: Average loss:  0.0152, Accuracy 9648/10000 (96%\n",
      ")\n",
      "Train Epoch: 2 [59800/60000 (100%)]  Loss: 0.011955\n",
      "\n",
      "Test set: Average loss:  0.0170, Accuracy 9573/10000 (96%\n",
      ")\n",
      "Train Epoch: 3 [59800/60000 (100%)]  Loss: 0.188937\n",
      "\n",
      "Test set: Average loss:  0.0134, Accuracy 9688/10000 (97%\n",
      ")\n",
      "Train Epoch: 4 [59800/60000 (100%)]  Loss: 0.173411\n",
      "\n",
      "Test set: Average loss:  0.0154, Accuracy 9659/10000 (97%\n",
      ")\n"
     ]
    }
   ],
   "source": [
    "epochs = 5\n",
    "for epoch in range(epochs):\n",
    "    train(epoch)\n",
    "    test()"
   ]
  },
  {
   "cell_type": "code",
   "execution_count": 44,
   "id": "46806134-c9ee-467b-9614-51ad9518a92f",
   "metadata": {},
   "outputs": [],
   "source": [
    "from matplotlib import pyplot as plt"
   ]
  },
  {
   "cell_type": "code",
   "execution_count": 45,
   "id": "0bab7f1e-f779-4fec-bb7c-7e5a24fd9a15",
   "metadata": {},
   "outputs": [
    {
     "name": "stdout",
     "output_type": "stream",
     "text": [
      "Prediction: 7\n"
     ]
    },
    {
     "data": {
      "image/png": "[encoded data removed]",
      "text/plain": [
       "<Figure size 640x480 with 1 Axes>"
      ]
     },
     "metadata": {},
     "output_type": "display_data"
    }
   ],
   "source": [
    "model.eval()\n",
    "data,target = test_data[0]\n",
    "data = data.unsqueeze(0)\n",
    "output= model(data)\n",
    "prediction = output.argmax(dim = 1,keepdim=True).item()\n",
    "print(f\"Prediction: {prediction}\")\n",
    "\n",
    "image = data.squeeze(0).squeeze(0).numpy()\n",
    "\n",
    "plt.imshow(image,cmap=\"gray\")\n",
    "plt.show()"
   ]
  }
 ],
 "metadata": {
  "kernelspec": {
   "display_name": "digitrecognition",
   "language": "python",
   "name": "digitrecognition"
  },
  "language_info": {
   "codemirror_mode": {
    "name": "ipython",
    "version": 3
   },
   "file_extension": ".py",
   "mimetype": "text/x-python",
   "name": "python",
   "nbconvert_exporter": "python",
   "pygments_lexer": "ipython3",
   "version": "3.12.7"
  }
 },
 "nbformat": 4,
 "nbformat_minor": 5
}
